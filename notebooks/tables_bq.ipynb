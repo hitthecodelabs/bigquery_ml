{
 "cells": [
  {
   "cell_type": "code",
   "execution_count": null,
   "id": "bcf54c62-c4a5-4e7b-83b5-6f2d9d05b4d5",
   "metadata": {},
   "outputs": [],
   "source": [
    "!pip install bigframes"
   ]
  },
  {
   "cell_type": "code",
   "execution_count": 2,
   "id": "4943170e-b31f-435a-87a5-39caca6cef93",
   "metadata": {
    "tags": []
   },
   "outputs": [],
   "source": [
    "import numpy as np\n",
    "import pandas as pd\n",
    "from google.cloud import bigquery"
   ]
  },
  {
   "cell_type": "code",
   "execution_count": 3,
   "id": "0793a13b-010c-4c6f-8897-6b99677c3e9a",
   "metadata": {
    "tags": []
   },
   "outputs": [],
   "source": [
    "client = bigquery.Client()"
   ]
  },
  {
   "cell_type": "code",
   "execution_count": 6,
   "id": "f9895c63-8ebb-4a77-ae1e-7920598b252b",
   "metadata": {
    "tags": []
   },
   "outputs": [],
   "source": [
    "query = \"\"\"\n",
    "SELECT * \n",
    "FROM `sapient-stacker-407917.employee_data_company_data_firmographic_data_global_769m.member_education`\n",
    "LIMIT 100;\n",
    "\"\"\"\n",
    "\n",
    "query = \"\"\"\n",
    "SELECT * \n",
    "FROM `bigquery-public-data.london_crime.crime_by_lsoa`\n",
    "WHERE year = 2016\n",
    "LIMIT 100;\n",
    "\"\"\"\n",
    "\n",
    "query_job = client.query(query)\n",
    "df = pd.DataFrame([dict(row.items()) for row in query_job])\n",
    "# df"
   ]
  },
  {
   "cell_type": "code",
   "execution_count": 7,
   "id": "c11650d1-1dd7-4c39-acb7-e0008200db34",
   "metadata": {
    "tags": []
   },
   "outputs": [
    {
     "data": {
      "text/html": [
       "<div>\n",
       "<style scoped>\n",
       "    .dataframe tbody tr th:only-of-type {\n",
       "        vertical-align: middle;\n",
       "    }\n",
       "\n",
       "    .dataframe tbody tr th {\n",
       "        vertical-align: top;\n",
       "    }\n",
       "\n",
       "    .dataframe thead th {\n",
       "        text-align: right;\n",
       "    }\n",
       "</style>\n",
       "<table border=\"1\" class=\"dataframe\">\n",
       "  <thead>\n",
       "    <tr style=\"text-align: right;\">\n",
       "      <th></th>\n",
       "      <th>lsoa_code</th>\n",
       "      <th>borough</th>\n",
       "      <th>major_category</th>\n",
       "      <th>minor_category</th>\n",
       "      <th>value</th>\n",
       "      <th>year</th>\n",
       "      <th>month</th>\n",
       "    </tr>\n",
       "  </thead>\n",
       "  <tbody>\n",
       "    <tr>\n",
       "      <th>0</th>\n",
       "      <td>E01000848</td>\n",
       "      <td>Camden</td>\n",
       "      <td>Sexual Offences</td>\n",
       "      <td>Rape</td>\n",
       "      <td>0</td>\n",
       "      <td>2016</td>\n",
       "      <td>12</td>\n",
       "    </tr>\n",
       "    <tr>\n",
       "      <th>1</th>\n",
       "      <td>E01000471</td>\n",
       "      <td>Brent</td>\n",
       "      <td>Sexual Offences</td>\n",
       "      <td>Rape</td>\n",
       "      <td>0</td>\n",
       "      <td>2016</td>\n",
       "      <td>6</td>\n",
       "    </tr>\n",
       "    <tr>\n",
       "      <th>2</th>\n",
       "      <td>E01000478</td>\n",
       "      <td>Brent</td>\n",
       "      <td>Sexual Offences</td>\n",
       "      <td>Rape</td>\n",
       "      <td>0</td>\n",
       "      <td>2016</td>\n",
       "      <td>4</td>\n",
       "    </tr>\n",
       "    <tr>\n",
       "      <th>3</th>\n",
       "      <td>E01000294</td>\n",
       "      <td>Barnet</td>\n",
       "      <td>Sexual Offences</td>\n",
       "      <td>Rape</td>\n",
       "      <td>0</td>\n",
       "      <td>2016</td>\n",
       "      <td>3</td>\n",
       "    </tr>\n",
       "    <tr>\n",
       "      <th>4</th>\n",
       "      <td>E01000927</td>\n",
       "      <td>Camden</td>\n",
       "      <td>Sexual Offences</td>\n",
       "      <td>Rape</td>\n",
       "      <td>0</td>\n",
       "      <td>2016</td>\n",
       "      <td>6</td>\n",
       "    </tr>\n",
       "    <tr>\n",
       "      <th>...</th>\n",
       "      <td>...</td>\n",
       "      <td>...</td>\n",
       "      <td>...</td>\n",
       "      <td>...</td>\n",
       "      <td>...</td>\n",
       "      <td>...</td>\n",
       "      <td>...</td>\n",
       "    </tr>\n",
       "    <tr>\n",
       "      <th>95</th>\n",
       "      <td>E01001646</td>\n",
       "      <td>Greenwich</td>\n",
       "      <td>Sexual Offences</td>\n",
       "      <td>Rape</td>\n",
       "      <td>0</td>\n",
       "      <td>2016</td>\n",
       "      <td>12</td>\n",
       "    </tr>\n",
       "    <tr>\n",
       "      <th>96</th>\n",
       "      <td>E01001646</td>\n",
       "      <td>Greenwich</td>\n",
       "      <td>Sexual Offences</td>\n",
       "      <td>Rape</td>\n",
       "      <td>0</td>\n",
       "      <td>2016</td>\n",
       "      <td>10</td>\n",
       "    </tr>\n",
       "    <tr>\n",
       "      <th>97</th>\n",
       "      <td>E01001640</td>\n",
       "      <td>Greenwich</td>\n",
       "      <td>Sexual Offences</td>\n",
       "      <td>Rape</td>\n",
       "      <td>0</td>\n",
       "      <td>2016</td>\n",
       "      <td>11</td>\n",
       "    </tr>\n",
       "    <tr>\n",
       "      <th>98</th>\n",
       "      <td>E01000992</td>\n",
       "      <td>Croydon</td>\n",
       "      <td>Sexual Offences</td>\n",
       "      <td>Rape</td>\n",
       "      <td>0</td>\n",
       "      <td>2016</td>\n",
       "      <td>5</td>\n",
       "    </tr>\n",
       "    <tr>\n",
       "      <th>99</th>\n",
       "      <td>E01001808</td>\n",
       "      <td>Hackney</td>\n",
       "      <td>Sexual Offences</td>\n",
       "      <td>Rape</td>\n",
       "      <td>0</td>\n",
       "      <td>2016</td>\n",
       "      <td>3</td>\n",
       "    </tr>\n",
       "  </tbody>\n",
       "</table>\n",
       "<p>100 rows × 7 columns</p>\n",
       "</div>"
      ],
      "text/plain": [
       "    lsoa_code    borough   major_category minor_category  value  year  month\n",
       "0   E01000848     Camden  Sexual Offences           Rape      0  2016     12\n",
       "1   E01000471      Brent  Sexual Offences           Rape      0  2016      6\n",
       "2   E01000478      Brent  Sexual Offences           Rape      0  2016      4\n",
       "3   E01000294     Barnet  Sexual Offences           Rape      0  2016      3\n",
       "4   E01000927     Camden  Sexual Offences           Rape      0  2016      6\n",
       "..        ...        ...              ...            ...    ...   ...    ...\n",
       "95  E01001646  Greenwich  Sexual Offences           Rape      0  2016     12\n",
       "96  E01001646  Greenwich  Sexual Offences           Rape      0  2016     10\n",
       "97  E01001640  Greenwich  Sexual Offences           Rape      0  2016     11\n",
       "98  E01000992    Croydon  Sexual Offences           Rape      0  2016      5\n",
       "99  E01001808    Hackney  Sexual Offences           Rape      0  2016      3\n",
       "\n",
       "[100 rows x 7 columns]"
      ]
     },
     "execution_count": 7,
     "metadata": {},
     "output_type": "execute_result"
    }
   ],
   "source": [
    "df"
   ]
  },
  {
   "cell_type": "code",
   "execution_count": 47,
   "id": "71a6b4ad-c94f-49c1-a71e-824a7205476d",
   "metadata": {
    "tags": []
   },
   "outputs": [],
   "source": [
    "query = \"\"\"SELECT table_name\n",
    "FROM `sapient-stacker-407917.employee_data_company_data_firmographic_data_global_769m.INFORMATION_SCHEMA.TABLES`;\"\"\"\n",
    "query_job = client.query(query)"
   ]
  },
  {
   "cell_type": "code",
   "execution_count": 48,
   "id": "9d932562-a0a6-4fd6-846d-ee3ed14fe15b",
   "metadata": {
    "tags": []
   },
   "outputs": [
    {
     "name": "stdout",
     "output_type": "stream",
     "text": [
      "Row(('member_education',), {'table_name': 0})\n",
      "Row(('member 1',), {'table_name': 0})\n"
     ]
    }
   ],
   "source": [
    "for row in query_job:\n",
    "    print(row)"
   ]
  },
  {
   "cell_type": "code",
   "execution_count": null,
   "id": "f83e475a-f692-46d1-9e63-8ef024837744",
   "metadata": {},
   "outputs": [],
   "source": []
  },
  {
   "cell_type": "code",
   "execution_count": 8,
   "id": "f3ecf8e9-c8bf-4037-99b1-a97504ac429b",
   "metadata": {
    "tags": []
   },
   "outputs": [
    {
     "data": {
      "application/vnd.jupyter.widget-view+json": {
       "model_id": "45e05753d4804cb8b022cef08d0f452b",
       "version_major": 2,
       "version_minor": 0
      },
      "text/plain": [
       "Query is running:   0%|          |"
      ]
     },
     "metadata": {},
     "output_type": "display_data"
    },
    {
     "data": {
      "application/vnd.jupyter.widget-view+json": {
       "model_id": "7b1c969bb0784f929d8f3af24e262522",
       "version_major": 2,
       "version_minor": 0
      },
      "text/plain": [
       "Downloading:   0%|          |"
      ]
     },
     "metadata": {},
     "output_type": "display_data"
    }
   ],
   "source": [
    "%%bigquery results\n",
    "SELECT * FROM `bigquery-public-data.london_crime.crime_by_lsoa` #this table name was set based on the table you chose to query"
   ]
  },
  {
   "cell_type": "code",
   "execution_count": 19,
   "id": "cb1ad9ba-94e3-481b-8e75-0a7cc7805ae6",
   "metadata": {
    "tags": []
   },
   "outputs": [
    {
     "data": {
      "application/vnd.jupyter.widget-view+json": {
       "model_id": "8d2dc777f5874e9f954247a0160a3aab",
       "version_major": 2,
       "version_minor": 0
      },
      "text/plain": [
       "Query is running:   0%|          |"
      ]
     },
     "metadata": {},
     "output_type": "display_data"
    },
    {
     "data": {
      "application/vnd.jupyter.widget-view+json": {
       "model_id": "54f3dca4a22d4ed6809825831f836f26",
       "version_major": 2,
       "version_minor": 0
      },
      "text/plain": [
       "Downloading:   0%|          |"
      ]
     },
     "metadata": {},
     "output_type": "display_data"
    }
   ],
   "source": [
    "%%bigquery results\n",
    "SELECT borough, COUNT(*) as total_crimes\n",
    "FROM `bigquery-public-data.london_crime.crime_by_lsoa`\n",
    "WHERE year = 2016\n",
    "GROUP BY borough\n",
    "ORDER BY total_crimes DESC"
   ]
  },
  {
   "cell_type": "code",
   "execution_count": 20,
   "id": "e350a9ca-5f7a-4d12-9a5d-d62aba6c1e29",
   "metadata": {
    "tags": []
   },
   "outputs": [
    {
     "data": {
      "image/png": "[encoded data removed]",
      "text/plain": [
       "<Figure size 640x480 with 1 Axes>"
      ]
     },
     "metadata": {},
     "output_type": "display_data"
    }
   ],
   "source": [
    "import matplotlib.pyplot as plt\n",
    "\n",
    "# Visualiza los resultados\n",
    "results.plot(kind='bar', x='borough', y='total_crimes')\n",
    "plt.show()"
   ]
  },
  {
   "cell_type": "code",
   "execution_count": 23,
   "id": "6c4e671b-6056-4591-842a-81d82013ec57",
   "metadata": {
    "tags": []
   },
   "outputs": [
    {
     "data": {
      "text/plain": [
       "'sapient-stacker-407917.mi_dataset'"
      ]
     },
     "execution_count": 23,
     "metadata": {},
     "output_type": "execute_result"
    }
   ],
   "source": [
    "from google.cloud import bigquery\n",
    "\n",
    "client = bigquery.Client()\n",
    "\n",
    "dataset_id = \"{}.mi_dataset\".format(client.project)\n",
    "dataset_id"
   ]
  },
  {
   "cell_type": "code",
   "execution_count": 25,
   "id": "bebcabfa-e90b-4211-bae8-21d55dd74dc3",
   "metadata": {
    "tags": []
   },
   "outputs": [
    {
     "data": {
      "text/plain": [
       "Dataset(DatasetReference('sapient-stacker-407917', 'mi_dataset'))"
      ]
     },
     "execution_count": 25,
     "metadata": {},
     "output_type": "execute_result"
    }
   ],
   "source": [
    "dataset = bigquery.Dataset(dataset_id)\n",
    "dataset"
   ]
  },
  {
   "cell_type": "code",
   "execution_count": 26,
   "id": "3596e598-6e22-47ac-87de-c4e4dde8042d",
   "metadata": {
    "tags": []
   },
   "outputs": [
    {
     "name": "stdout",
     "output_type": "stream",
     "text": [
      "Dataset creado. ID: sapient-stacker-407917.mi_dataset\n"
     ]
    }
   ],
   "source": [
    "dataset.location = \"EU\"\n",
    "\n",
    "dataset = client.create_dataset(dataset, timeout=30)  # Lanza una excepción si falla.\n",
    "print(\"Dataset creado. ID: {}\".format(dataset_id))"
   ]
  },
  {
   "cell_type": "code",
   "execution_count": null,
   "id": "eb2e52c5-4f11-4177-a04a-7e330eea889c",
   "metadata": {},
   "outputs": [],
   "source": []
  },
  {
   "cell_type": "code",
   "execution_count": 27,
   "id": "25f9b2f4-1603-412d-8ef8-69d85bc0593c",
   "metadata": {
    "tags": []
   },
   "outputs": [
    {
     "data": {
      "application/vnd.jupyter.widget-view+json": {
       "model_id": "328cca080c044dff8269f462f9de5d61",
       "version_major": 2,
       "version_minor": 0
      },
      "text/plain": [
       "Query is running:   0%|          |"
      ]
     },
     "metadata": {},
     "output_type": "display_data"
    },
    {
     "data": {
      "text/html": [
       "<div>\n",
       "<style scoped>\n",
       "    .dataframe tbody tr th:only-of-type {\n",
       "        vertical-align: middle;\n",
       "    }\n",
       "\n",
       "    .dataframe tbody tr th {\n",
       "        vertical-align: top;\n",
       "    }\n",
       "\n",
       "    .dataframe thead th {\n",
       "        text-align: right;\n",
       "    }\n",
       "</style>\n",
       "<table border=\"1\" class=\"dataframe\">\n",
       "  <thead>\n",
       "    <tr style=\"text-align: right;\">\n",
       "      <th></th>\n",
       "    </tr>\n",
       "  </thead>\n",
       "  <tbody>\n",
       "  </tbody>\n",
       "</table>\n",
       "</div>"
      ],
      "text/plain": [
       "Empty DataFrame\n",
       "Columns: []\n",
       "Index: []"
      ]
     },
     "execution_count": 27,
     "metadata": {},
     "output_type": "execute_result"
    }
   ],
   "source": [
    "%%bigquery\n",
    "CREATE OR REPLACE MODEL `mi_dataset.modelo_prediccion_crimen`\n",
    "OPTIONS(model_type='linear_reg', input_label_cols=['total_crimes']) AS\n",
    "SELECT\n",
    "  lsoa_code,\n",
    "  year,\n",
    "  month,\n",
    "  COUNT(value) AS total_crimes\n",
    "FROM\n",
    "  `bigquery-public-data.london_crime.crime_by_lsoa`\n",
    "GROUP BY\n",
    "  lsoa_code,\n",
    "  year,\n",
    "  month;"
   ]
  },
  {
   "cell_type": "code",
   "execution_count": 30,
   "id": "0ba8dd4e-5f65-400a-858f-8e13d902d93c",
   "metadata": {
    "tags": []
   },
   "outputs": [
    {
     "data": {
      "application/vnd.jupyter.widget-view+json": {
       "model_id": "748c69be804948fd96b3713802f0de5c",
       "version_major": 2,
       "version_minor": 0
      },
      "text/plain": [
       "Query is running:   0%|          |"
      ]
     },
     "metadata": {},
     "output_type": "display_data"
    },
    {
     "data": {
      "application/vnd.jupyter.widget-view+json": {
       "model_id": "1446b59e2bcf454389bfe5263bb478f6",
       "version_major": 2,
       "version_minor": 0
      },
      "text/plain": [
       "Downloading:   0%|          |"
      ]
     },
     "metadata": {},
     "output_type": "display_data"
    }
   ],
   "source": [
    "%%bigquery evaluation_results\n",
    "SELECT * FROM ML.EVALUATE(MODEL `mi_dataset.modelo_prediccion_crimen`);"
   ]
  },
  {
   "cell_type": "code",
   "execution_count": 32,
   "id": "585b8b61-956d-44ad-99f3-317fd0b378c1",
   "metadata": {
    "tags": []
   },
   "outputs": [
    {
     "data": {
      "text/plain": [
       "{'mean_absolute_error': {0: 1.5944675767860788e-08},\n",
       " 'mean_squared_error': {0: 2.8348915778623843e-16},\n",
       " 'mean_squared_log_error': {0: 4.774336357370039e-19},\n",
       " 'median_absolute_error': {0: 1.558826312475503e-08},\n",
       " 'r2_score': {0: 0.9999999999999999},\n",
       " 'explained_variance': {0: 1.0}}"
      ]
     },
     "execution_count": 32,
     "metadata": {},
     "output_type": "execute_result"
    }
   ],
   "source": [
    "evaluation_results.to_dict()"
   ]
  },
  {
   "cell_type": "code",
   "execution_count": 40,
   "id": "7c57e7d9-55eb-4621-bb1c-df7aefc575e5",
   "metadata": {
    "tags": []
   },
   "outputs": [
    {
     "data": {
      "application/vnd.jupyter.widget-view+json": {
       "model_id": "2f928f29bed34187b281cfdb4c333ee5",
       "version_major": 2,
       "version_minor": 0
      },
      "text/plain": [
       "Query is running:   0%|          |"
      ]
     },
     "metadata": {},
     "output_type": "display_data"
    },
    {
     "data": {
      "application/vnd.jupyter.widget-view+json": {
       "model_id": "3fdcb2a4dbb94837904965f18c7c2306",
       "version_major": 2,
       "version_minor": 0
      },
      "text/plain": [
       "Downloading:   0%|          |"
      ]
     },
     "metadata": {},
     "output_type": "display_data"
    }
   ],
   "source": [
    "%%bigquery conteo_2016_1\n",
    "SELECT COUNT(*)\n",
    "FROM `bigquery-public-data.london_crime.crime_by_lsoa`\n",
    "WHERE year = 2016 AND month = 1;"
   ]
  },
  {
   "cell_type": "code",
   "execution_count": 41,
   "id": "b4e45ff8-d6f1-4c76-910f-784c35f94ab8",
   "metadata": {
    "tags": []
   },
   "outputs": [
    {
     "data": {
      "text/html": [
       "<div>\n",
       "<style scoped>\n",
       "    .dataframe tbody tr th:only-of-type {\n",
       "        vertical-align: middle;\n",
       "    }\n",
       "\n",
       "    .dataframe tbody tr th {\n",
       "        vertical-align: top;\n",
       "    }\n",
       "\n",
       "    .dataframe thead th {\n",
       "        text-align: right;\n",
       "    }\n",
       "</style>\n",
       "<table border=\"1\" class=\"dataframe\">\n",
       "  <thead>\n",
       "    <tr style=\"text-align: right;\">\n",
       "      <th></th>\n",
       "      <th>f0_</th>\n",
       "    </tr>\n",
       "  </thead>\n",
       "  <tbody>\n",
       "    <tr>\n",
       "      <th>0</th>\n",
       "      <td>124913</td>\n",
       "    </tr>\n",
       "  </tbody>\n",
       "</table>\n",
       "</div>"
      ],
      "text/plain": [
       "      f0_\n",
       "0  124913"
      ]
     },
     "execution_count": 41,
     "metadata": {},
     "output_type": "execute_result"
    }
   ],
   "source": [
    "conteo_2016_1"
   ]
  },
  {
   "cell_type": "code",
   "execution_count": 37,
   "id": "4b1ee9df-9d63-4144-b118-d77c43950d1d",
   "metadata": {
    "tags": []
   },
   "outputs": [
    {
     "data": {
      "application/vnd.jupyter.widget-view+json": {
       "model_id": "0ef95ae200ef484986b45ca1af70caf8",
       "version_major": 2,
       "version_minor": 0
      },
      "text/plain": [
       "Query is running:   0%|          |"
      ]
     },
     "metadata": {},
     "output_type": "display_data"
    },
    {
     "data": {
      "application/vnd.jupyter.widget-view+json": {
       "model_id": "ced7e676d67e463d9d0dc7dd11f46676",
       "version_major": 2,
       "version_minor": 0
      },
      "text/plain": [
       "Downloading:   0%|          |"
      ]
     },
     "metadata": {},
     "output_type": "display_data"
    }
   ],
   "source": [
    "%%bigquery prediction_results\n",
    "SELECT\n",
    "  lsoa_code,\n",
    "  year,\n",
    "  month,\n",
    "  predicted_total_crimes\n",
    "FROM\n",
    "  ML.PREDICT(MODEL `mi_dataset.modelo_prediccion_crimen`,\n",
    "    (SELECT\n",
    "       lsoa_code,\n",
    "       year,\n",
    "       month\n",
    "     FROM\n",
    "       `bigquery-public-data.london_crime.crime_by_lsoa`\n",
    "     WHERE\n",
    "       year = 2016 AND month = 1));"
   ]
  },
  {
   "cell_type": "code",
   "execution_count": 38,
   "id": "9677fdcb-a23a-40fb-8f00-cc3090111486",
   "metadata": {
    "tags": []
   },
   "outputs": [
    {
     "data": {
      "text/html": [
       "<div>\n",
       "<style scoped>\n",
       "    .dataframe tbody tr th:only-of-type {\n",
       "        vertical-align: middle;\n",
       "    }\n",
       "\n",
       "    .dataframe tbody tr th {\n",
       "        vertical-align: top;\n",
       "    }\n",
       "\n",
       "    .dataframe thead th {\n",
       "        text-align: right;\n",
       "    }\n",
       "</style>\n",
       "<table border=\"1\" class=\"dataframe\">\n",
       "  <thead>\n",
       "    <tr style=\"text-align: right;\">\n",
       "      <th></th>\n",
       "      <th>lsoa_code</th>\n",
       "      <th>year</th>\n",
       "      <th>month</th>\n",
       "      <th>predicted_total_crimes</th>\n",
       "    </tr>\n",
       "  </thead>\n",
       "  <tbody>\n",
       "    <tr>\n",
       "      <th>0</th>\n",
       "      <td>E01001331</td>\n",
       "      <td>2016</td>\n",
       "      <td>1</td>\n",
       "      <td>28.0</td>\n",
       "    </tr>\n",
       "    <tr>\n",
       "      <th>1</th>\n",
       "      <td>E01000619</td>\n",
       "      <td>2016</td>\n",
       "      <td>1</td>\n",
       "      <td>25.0</td>\n",
       "    </tr>\n",
       "    <tr>\n",
       "      <th>2</th>\n",
       "      <td>E01000257</td>\n",
       "      <td>2016</td>\n",
       "      <td>1</td>\n",
       "      <td>28.0</td>\n",
       "    </tr>\n",
       "    <tr>\n",
       "      <th>3</th>\n",
       "      <td>E01000927</td>\n",
       "      <td>2016</td>\n",
       "      <td>1</td>\n",
       "      <td>27.0</td>\n",
       "    </tr>\n",
       "    <tr>\n",
       "      <th>4</th>\n",
       "      <td>E01000570</td>\n",
       "      <td>2016</td>\n",
       "      <td>1</td>\n",
       "      <td>30.0</td>\n",
       "    </tr>\n",
       "    <tr>\n",
       "      <th>...</th>\n",
       "      <td>...</td>\n",
       "      <td>...</td>\n",
       "      <td>...</td>\n",
       "      <td>...</td>\n",
       "    </tr>\n",
       "    <tr>\n",
       "      <th>124908</th>\n",
       "      <td>E01000369</td>\n",
       "      <td>2016</td>\n",
       "      <td>1</td>\n",
       "      <td>24.0</td>\n",
       "    </tr>\n",
       "    <tr>\n",
       "      <th>124909</th>\n",
       "      <td>E01000364</td>\n",
       "      <td>2016</td>\n",
       "      <td>1</td>\n",
       "      <td>24.0</td>\n",
       "    </tr>\n",
       "    <tr>\n",
       "      <th>124910</th>\n",
       "      <td>E01001464</td>\n",
       "      <td>2016</td>\n",
       "      <td>1</td>\n",
       "      <td>24.0</td>\n",
       "    </tr>\n",
       "    <tr>\n",
       "      <th>124911</th>\n",
       "      <td>E01033592</td>\n",
       "      <td>2016</td>\n",
       "      <td>1</td>\n",
       "      <td>24.0</td>\n",
       "    </tr>\n",
       "    <tr>\n",
       "      <th>124912</th>\n",
       "      <td>E01004058</td>\n",
       "      <td>2016</td>\n",
       "      <td>1</td>\n",
       "      <td>24.0</td>\n",
       "    </tr>\n",
       "  </tbody>\n",
       "</table>\n",
       "<p>124913 rows × 4 columns</p>\n",
       "</div>"
      ],
      "text/plain": [
       "        lsoa_code  year  month  predicted_total_crimes\n",
       "0       E01001331  2016      1                    28.0\n",
       "1       E01000619  2016      1                    25.0\n",
       "2       E01000257  2016      1                    28.0\n",
       "3       E01000927  2016      1                    27.0\n",
       "4       E01000570  2016      1                    30.0\n",
       "...           ...   ...    ...                     ...\n",
       "124908  E01000369  2016      1                    24.0\n",
       "124909  E01000364  2016      1                    24.0\n",
       "124910  E01001464  2016      1                    24.0\n",
       "124911  E01033592  2016      1                    24.0\n",
       "124912  E01004058  2016      1                    24.0\n",
       "\n",
       "[124913 rows x 4 columns]"
      ]
     },
     "execution_count": 38,
     "metadata": {},
     "output_type": "execute_result"
    }
   ],
   "source": [
    "prediction_results"
   ]
  },
  {
   "cell_type": "code",
   "execution_count": null,
   "id": "6ff39909-4391-4d56-800e-b715c4f905fd",
   "metadata": {},
   "outputs": [],
   "source": []
  },
  {
   "cell_type": "code",
   "execution_count": 10,
   "id": "aed3ce13-9136-4794-be6d-d6c92e2f51eb",
   "metadata": {
    "tags": []
   },
   "outputs": [],
   "source": [
    "# @title Example 2: Query a table with BigQuery DataFrames\n",
    "# With BigQuery DataFrames, you can use many familiar Pandas methods, but the\n",
    "# processing happens BigQuery rather than the runtime, allowing you to work with larger\n",
    "# DataFrames that would otherwise not fit in the runtime memory.\n",
    "# Learn more here: https://cloud.google.com/python/docs/reference/bigframes/latest\n",
    "\n",
    "import bigframes.pandas as bf\n",
    "\n",
    "# bf.options.bigquery.location = \"EU\" #this variable is set based on the dataset you chose to query\n",
    "# bf.options.bigquery.project = \"sapient-stacker-407917\" #this variable is set based on the dataset you chose to query"
   ]
  },
  {
   "cell_type": "code",
   "execution_count": 11,
   "id": "ea2d5e3d-517e-4cbe-81da-2c892ca8bd7d",
   "metadata": {
    "tags": []
   },
   "outputs": [],
   "source": [
    "df = bf.read_gbq(\"bigquery-public-data.london_crime.crime_by_lsoa\") #this variable is set based on the dataset you chose to query"
   ]
  },
  {
   "cell_type": "code",
   "execution_count": 12,
   "id": "84fac832-f2e6-4ad7-ab5b-c9f8cb6b4b72",
   "metadata": {
    "tags": []
   },
   "outputs": [
    {
     "data": {
      "text/html": [
       "Query job aef9f5cc-fa1b-421a-84f6-80f7c3ef83d9 is DONE. 1.2 GB processed. <a target=\"_blank\" href=\"https://console.cloud.google.com/bigquery?project=sapient-stacker-407917&j=bq:EU:aef9f5cc-fa1b-421a-84f6-80f7c3ef83d9&page=queryresults\">Open Job</a>"
      ],
      "text/plain": [
       "<IPython.core.display.HTML object>"
      ]
     },
     "metadata": {},
     "output_type": "display_data"
    },
    {
     "data": {
      "text/html": [
       "Query job edfd1ee7-582a-4e18-a6d6-b10be2cf1212 is DONE. 1.2 GB processed. <a target=\"_blank\" href=\"https://console.cloud.google.com/bigquery?project=sapient-stacker-407917&j=bq:EU:edfd1ee7-582a-4e18-a6d6-b10be2cf1212&page=queryresults\">Open Job</a>"
      ],
      "text/plain": [
       "<IPython.core.display.HTML object>"
      ]
     },
     "metadata": {},
     "output_type": "display_data"
    },
    {
     "data": {
      "text/html": [
       "<div>\n",
       "<style scoped>\n",
       "    .dataframe tbody tr th:only-of-type {\n",
       "        vertical-align: middle;\n",
       "    }\n",
       "\n",
       "    .dataframe tbody tr th {\n",
       "        vertical-align: top;\n",
       "    }\n",
       "\n",
       "    .dataframe thead th {\n",
       "        text-align: right;\n",
       "    }\n",
       "</style>\n",
       "<table border=\"1\" class=\"dataframe\">\n",
       "  <thead>\n",
       "    <tr style=\"text-align: right;\">\n",
       "      <th></th>\n",
       "      <th>lsoa_code</th>\n",
       "      <th>borough</th>\n",
       "      <th>major_category</th>\n",
       "      <th>minor_category</th>\n",
       "      <th>value</th>\n",
       "      <th>year</th>\n",
       "      <th>month</th>\n",
       "    </tr>\n",
       "  </thead>\n",
       "  <tbody>\n",
       "    <tr>\n",
       "      <th>0</th>\n",
       "      <td>E01000127</td>\n",
       "      <td>Barnet</td>\n",
       "      <td>Theft and Handling</td>\n",
       "      <td>Theft From Shops</td>\n",
       "      <td>0</td>\n",
       "      <td>2013</td>\n",
       "      <td>12</td>\n",
       "    </tr>\n",
       "    <tr>\n",
       "      <th>1</th>\n",
       "      <td>E01003287</td>\n",
       "      <td>Lewisham</td>\n",
       "      <td>Drugs</td>\n",
       "      <td>Possession Of Drugs</td>\n",
       "      <td>1</td>\n",
       "      <td>2011</td>\n",
       "      <td>10</td>\n",
       "    </tr>\n",
       "    <tr>\n",
       "      <th>2</th>\n",
       "      <td>E01001244</td>\n",
       "      <td>Ealing</td>\n",
       "      <td>Violence Against the Person</td>\n",
       "      <td>Assault with Injury</td>\n",
       "      <td>0</td>\n",
       "      <td>2010</td>\n",
       "      <td>7</td>\n",
       "    </tr>\n",
       "    <tr>\n",
       "      <th>3</th>\n",
       "      <td>E01003768</td>\n",
       "      <td>Redbridge</td>\n",
       "      <td>Violence Against the Person</td>\n",
       "      <td>Offensive Weapon</td>\n",
       "      <td>1</td>\n",
       "      <td>2014</td>\n",
       "      <td>1</td>\n",
       "    </tr>\n",
       "    <tr>\n",
       "      <th>4</th>\n",
       "      <td>E01003946</td>\n",
       "      <td>Southwark</td>\n",
       "      <td>Other Notifiable Offences</td>\n",
       "      <td>Other Notifiable</td>\n",
       "      <td>1</td>\n",
       "      <td>2010</td>\n",
       "      <td>7</td>\n",
       "    </tr>\n",
       "    <tr>\n",
       "      <th>5</th>\n",
       "      <td>E01000788</td>\n",
       "      <td>Bromley</td>\n",
       "      <td>Fraud or Forgery</td>\n",
       "      <td>Counted per Victim</td>\n",
       "      <td>0</td>\n",
       "      <td>2008</td>\n",
       "      <td>5</td>\n",
       "    </tr>\n",
       "    <tr>\n",
       "      <th>6</th>\n",
       "      <td>E01000879</td>\n",
       "      <td>Camden</td>\n",
       "      <td>Other Notifiable Offences</td>\n",
       "      <td>Other Notifiable</td>\n",
       "      <td>0</td>\n",
       "      <td>2012</td>\n",
       "      <td>6</td>\n",
       "    </tr>\n",
       "    <tr>\n",
       "      <th>7</th>\n",
       "      <td>E01002099</td>\n",
       "      <td>Haringey</td>\n",
       "      <td>Sexual Offences</td>\n",
       "      <td>Other Sexual</td>\n",
       "      <td>0</td>\n",
       "      <td>2014</td>\n",
       "      <td>8</td>\n",
       "    </tr>\n",
       "    <tr>\n",
       "      <th>8</th>\n",
       "      <td>E01002355</td>\n",
       "      <td>Havering</td>\n",
       "      <td>Theft and Handling</td>\n",
       "      <td>Theft From Motor Vehicle</td>\n",
       "      <td>0</td>\n",
       "      <td>2014</td>\n",
       "      <td>10</td>\n",
       "    </tr>\n",
       "    <tr>\n",
       "      <th>9</th>\n",
       "      <td>E01003137</td>\n",
       "      <td>Lambeth</td>\n",
       "      <td>Theft and Handling</td>\n",
       "      <td>Theft/Taking Of Motor Vehicle</td>\n",
       "      <td>1</td>\n",
       "      <td>2014</td>\n",
       "      <td>11</td>\n",
       "    </tr>\n",
       "    <tr>\n",
       "      <th>10</th>\n",
       "      <td>E01001888</td>\n",
       "      <td>Hammersmith and Fulham</td>\n",
       "      <td>Robbery</td>\n",
       "      <td>Personal Property</td>\n",
       "      <td>0</td>\n",
       "      <td>2012</td>\n",
       "      <td>1</td>\n",
       "    </tr>\n",
       "    <tr>\n",
       "      <th>11</th>\n",
       "      <td>E01002571</td>\n",
       "      <td>Hounslow</td>\n",
       "      <td>Criminal Damage</td>\n",
       "      <td>Criminal Damage To Motor Vehicle</td>\n",
       "      <td>0</td>\n",
       "      <td>2016</td>\n",
       "      <td>4</td>\n",
       "    </tr>\n",
       "    <tr>\n",
       "      <th>12</th>\n",
       "      <td>E01000873</td>\n",
       "      <td>Camden</td>\n",
       "      <td>Burglary</td>\n",
       "      <td>Burglary in Other Buildings</td>\n",
       "      <td>1</td>\n",
       "      <td>2010</td>\n",
       "      <td>7</td>\n",
       "    </tr>\n",
       "    <tr>\n",
       "      <th>13</th>\n",
       "      <td>E01003021</td>\n",
       "      <td>Lambeth</td>\n",
       "      <td>Other Notifiable Offences</td>\n",
       "      <td>Other Notifiable</td>\n",
       "      <td>1</td>\n",
       "      <td>2015</td>\n",
       "      <td>10</td>\n",
       "    </tr>\n",
       "    <tr>\n",
       "      <th>14</th>\n",
       "      <td>E01004755</td>\n",
       "      <td>Westminster</td>\n",
       "      <td>Drugs</td>\n",
       "      <td>Possession Of Drugs</td>\n",
       "      <td>18</td>\n",
       "      <td>2012</td>\n",
       "      <td>8</td>\n",
       "    </tr>\n",
       "    <tr>\n",
       "      <th>15</th>\n",
       "      <td>E01001913</td>\n",
       "      <td>Hammersmith and Fulham</td>\n",
       "      <td>Criminal Damage</td>\n",
       "      <td>Other Criminal Damage</td>\n",
       "      <td>0</td>\n",
       "      <td>2016</td>\n",
       "      <td>1</td>\n",
       "    </tr>\n",
       "    <tr>\n",
       "      <th>16</th>\n",
       "      <td>E01002304</td>\n",
       "      <td>Havering</td>\n",
       "      <td>Violence Against the Person</td>\n",
       "      <td>Wounding/GBH</td>\n",
       "      <td>0</td>\n",
       "      <td>2014</td>\n",
       "      <td>8</td>\n",
       "    </tr>\n",
       "    <tr>\n",
       "      <th>17</th>\n",
       "      <td>E01001610</td>\n",
       "      <td>Greenwich</td>\n",
       "      <td>Theft and Handling</td>\n",
       "      <td>Handling Stolen Goods</td>\n",
       "      <td>0</td>\n",
       "      <td>2009</td>\n",
       "      <td>3</td>\n",
       "    </tr>\n",
       "    <tr>\n",
       "      <th>18</th>\n",
       "      <td>E01000639</td>\n",
       "      <td>Brent</td>\n",
       "      <td>Drugs</td>\n",
       "      <td>Possession Of Drugs</td>\n",
       "      <td>1</td>\n",
       "      <td>2009</td>\n",
       "      <td>10</td>\n",
       "    </tr>\n",
       "    <tr>\n",
       "      <th>19</th>\n",
       "      <td>E01001565</td>\n",
       "      <td>Enfield</td>\n",
       "      <td>Burglary</td>\n",
       "      <td>Burglary in Other Buildings</td>\n",
       "      <td>0</td>\n",
       "      <td>2014</td>\n",
       "      <td>6</td>\n",
       "    </tr>\n",
       "  </tbody>\n",
       "</table>\n",
       "<p>20 rows × 7 columns</p>\n",
       "</div>[20 rows x 7 columns in total]"
      ],
      "text/plain": [
       "    lsoa_code                 borough               major_category  \\\n",
       "0   E01000127                  Barnet           Theft and Handling   \n",
       "1   E01003287                Lewisham                        Drugs   \n",
       "2   E01001244                  Ealing  Violence Against the Person   \n",
       "3   E01003768               Redbridge  Violence Against the Person   \n",
       "4   E01003946               Southwark    Other Notifiable Offences   \n",
       "5   E01000788                 Bromley             Fraud or Forgery   \n",
       "6   E01000879                  Camden    Other Notifiable Offences   \n",
       "7   E01002099                Haringey              Sexual Offences   \n",
       "8   E01002355                Havering           Theft and Handling   \n",
       "9   E01003137                 Lambeth           Theft and Handling   \n",
       "10  E01001888  Hammersmith and Fulham                      Robbery   \n",
       "11  E01002571                Hounslow              Criminal Damage   \n",
       "12  E01000873                  Camden                     Burglary   \n",
       "13  E01003021                 Lambeth    Other Notifiable Offences   \n",
       "14  E01004755             Westminster                        Drugs   \n",
       "15  E01001913  Hammersmith and Fulham              Criminal Damage   \n",
       "16  E01002304                Havering  Violence Against the Person   \n",
       "17  E01001610               Greenwich           Theft and Handling   \n",
       "18  E01000639                   Brent                        Drugs   \n",
       "19  E01001565                 Enfield                     Burglary   \n",
       "\n",
       "                      minor_category  value  year  month  \n",
       "0                   Theft From Shops      0  2013     12  \n",
       "1                Possession Of Drugs      1  2011     10  \n",
       "2                Assault with Injury      0  2010      7  \n",
       "3                   Offensive Weapon      1  2014      1  \n",
       "4                   Other Notifiable      1  2010      7  \n",
       "5                 Counted per Victim      0  2008      5  \n",
       "6                   Other Notifiable      0  2012      6  \n",
       "7                       Other Sexual      0  2014      8  \n",
       "8           Theft From Motor Vehicle      0  2014     10  \n",
       "9      Theft/Taking Of Motor Vehicle      1  2014     11  \n",
       "10                 Personal Property      0  2012      1  \n",
       "11  Criminal Damage To Motor Vehicle      0  2016      4  \n",
       "12       Burglary in Other Buildings      1  2010      7  \n",
       "13                  Other Notifiable      1  2015     10  \n",
       "14               Possession Of Drugs     18  2012      8  \n",
       "15             Other Criminal Damage      0  2016      1  \n",
       "16                      Wounding/GBH      0  2014      8  \n",
       "17             Handling Stolen Goods      0  2009      3  \n",
       "18               Possession Of Drugs      1  2009     10  \n",
       "19       Burglary in Other Buildings      0  2014      6  \n",
       "\n",
       "[20 rows x 7 columns]"
      ]
     },
     "execution_count": 12,
     "metadata": {},
     "output_type": "execute_result"
    }
   ],
   "source": [
    "# BigFrames can work with tables that are too large to fit in the notebook memory.\n",
    "# Look at the first 20 rows.\n",
    "df.head(20)"
   ]
  },
  {
   "cell_type": "code",
   "execution_count": 14,
   "id": "ab07bb3c-c502-4d77-9981-bac42d0c6dee",
   "metadata": {
    "tags": []
   },
   "outputs": [
    {
     "data": {
      "text/html": [
       "Query job 372bec27-63e8-4e8c-a3a0-2cc1143a9a04 is DONE. 1.2 GB processed. <a target=\"_blank\" href=\"https://console.cloud.google.com/bigquery?project=sapient-stacker-407917&j=bq:EU:372bec27-63e8-4e8c-a3a0-2cc1143a9a04&page=queryresults\">Open Job</a>"
      ],
      "text/plain": [
       "<IPython.core.display.HTML object>"
      ]
     },
     "metadata": {},
     "output_type": "display_data"
    },
    {
     "data": {
      "text/html": [
       "Query job 171ea41d-7362-4fef-bf43-75336854ca31 is DONE. 1.2 GB processed. <a target=\"_blank\" href=\"https://console.cloud.google.com/bigquery?project=sapient-stacker-407917&j=bq:EU:171ea41d-7362-4fef-bf43-75336854ca31&page=queryresults\">Open Job</a>"
      ],
      "text/plain": [
       "<IPython.core.display.HTML object>"
      ]
     },
     "metadata": {},
     "output_type": "display_data"
    },
    {
     "data": {
      "text/html": [
       "<div>\n",
       "<style scoped>\n",
       "    .dataframe tbody tr th:only-of-type {\n",
       "        vertical-align: middle;\n",
       "    }\n",
       "\n",
       "    .dataframe tbody tr th {\n",
       "        vertical-align: top;\n",
       "    }\n",
       "\n",
       "    .dataframe thead th {\n",
       "        text-align: right;\n",
       "    }\n",
       "</style>\n",
       "<table border=\"1\" class=\"dataframe\">\n",
       "  <thead>\n",
       "    <tr style=\"text-align: right;\">\n",
       "      <th></th>\n",
       "      <th>lsoa_code</th>\n",
       "      <th>borough</th>\n",
       "      <th>major_category</th>\n",
       "      <th>minor_category</th>\n",
       "      <th>value</th>\n",
       "      <th>year</th>\n",
       "      <th>month</th>\n",
       "    </tr>\n",
       "  </thead>\n",
       "  <tbody>\n",
       "    <tr>\n",
       "      <th>13490599</th>\n",
       "      <td>E01003980</td>\n",
       "      <td>Southwark</td>\n",
       "      <td>Violence Against the Person</td>\n",
       "      <td>Murder</td>\n",
       "      <td>0</td>\n",
       "      <td>2012</td>\n",
       "      <td>12</td>\n",
       "    </tr>\n",
       "    <tr>\n",
       "      <th>13490600</th>\n",
       "      <td>E01000102</td>\n",
       "      <td>Barking and Dagenham</td>\n",
       "      <td>Other Notifiable Offences</td>\n",
       "      <td>Other Notifiable</td>\n",
       "      <td>0</td>\n",
       "      <td>2016</td>\n",
       "      <td>10</td>\n",
       "    </tr>\n",
       "    <tr>\n",
       "      <th>13490601</th>\n",
       "      <td>E01001206</td>\n",
       "      <td>Ealing</td>\n",
       "      <td>Drugs</td>\n",
       "      <td>Drug Trafficking</td>\n",
       "      <td>1</td>\n",
       "      <td>2012</td>\n",
       "      <td>8</td>\n",
       "    </tr>\n",
       "    <tr>\n",
       "      <th>13490602</th>\n",
       "      <td>E01004086</td>\n",
       "      <td>Sutton</td>\n",
       "      <td>Theft and Handling</td>\n",
       "      <td>Theft From Shops</td>\n",
       "      <td>0</td>\n",
       "      <td>2012</td>\n",
       "      <td>2</td>\n",
       "    </tr>\n",
       "    <tr>\n",
       "      <th>13490603</th>\n",
       "      <td>E01004246</td>\n",
       "      <td>Tower Hamlets</td>\n",
       "      <td>Theft and Handling</td>\n",
       "      <td>Other Theft</td>\n",
       "      <td>3</td>\n",
       "      <td>2008</td>\n",
       "      <td>4</td>\n",
       "    </tr>\n",
       "  </tbody>\n",
       "</table>\n",
       "<p>5 rows × 7 columns</p>\n",
       "</div>[5 rows x 7 columns in total]"
      ],
      "text/plain": [
       "          lsoa_code               borough               major_category  \\\n",
       "13490599  E01003980             Southwark  Violence Against the Person   \n",
       "13490600  E01000102  Barking and Dagenham    Other Notifiable Offences   \n",
       "13490601  E01001206                Ealing                        Drugs   \n",
       "13490602  E01004086                Sutton           Theft and Handling   \n",
       "13490603  E01004246         Tower Hamlets           Theft and Handling   \n",
       "\n",
       "            minor_category  value  year  month  \n",
       "13490599            Murder      0  2012     12  \n",
       "13490600  Other Notifiable      0  2016     10  \n",
       "13490601  Drug Trafficking      1  2012      8  \n",
       "13490602  Theft From Shops      0  2012      2  \n",
       "13490603       Other Theft      3  2008      4  \n",
       "\n",
       "[5 rows x 7 columns]"
      ]
     },
     "execution_count": 14,
     "metadata": {},
     "output_type": "execute_result"
    }
   ],
   "source": [
    "df.tail(5)"
   ]
  },
  {
   "cell_type": "code",
   "execution_count": 13,
   "id": "8825dc59-7ae3-4680-bcf1-51e8a5c3c09e",
   "metadata": {
    "tags": []
   },
   "outputs": [
    {
     "data": {
      "text/html": [
       "Query job 7837a6aa-09e2-44aa-a3dc-2cdceb2dbd2e is DONE. 0 Bytes processed. <a target=\"_blank\" href=\"https://console.cloud.google.com/bigquery?project=sapient-stacker-407917&j=bq:EU:7837a6aa-09e2-44aa-a3dc-2cdceb2dbd2e&page=queryresults\">Open Job</a>"
      ],
      "text/plain": [
       "<IPython.core.display.HTML object>"
      ]
     },
     "metadata": {},
     "output_type": "display_data"
    },
    {
     "data": {
      "text/html": [
       "Query job 3a97c7d9-7274-4fd4-80af-a6ef07931abb is DONE. 1.2 GB processed. <a target=\"_blank\" href=\"https://console.cloud.google.com/bigquery?project=sapient-stacker-407917&j=bq:EU:3a97c7d9-7274-4fd4-80af-a6ef07931abb&page=queryresults\">Open Job</a>"
      ],
      "text/plain": [
       "<IPython.core.display.HTML object>"
      ]
     },
     "metadata": {},
     "output_type": "display_data"
    },
    {
     "data": {
      "text/html": [
       "<div>\n",
       "<style scoped>\n",
       "    .dataframe tbody tr th:only-of-type {\n",
       "        vertical-align: middle;\n",
       "    }\n",
       "\n",
       "    .dataframe tbody tr th {\n",
       "        vertical-align: top;\n",
       "    }\n",
       "\n",
       "    .dataframe thead th {\n",
       "        text-align: right;\n",
       "    }\n",
       "</style>\n",
       "<table border=\"1\" class=\"dataframe\">\n",
       "  <thead>\n",
       "    <tr style=\"text-align: right;\">\n",
       "      <th></th>\n",
       "      <th>lsoa_code</th>\n",
       "      <th>borough</th>\n",
       "      <th>major_category</th>\n",
       "      <th>minor_category</th>\n",
       "      <th>value</th>\n",
       "      <th>year</th>\n",
       "      <th>month</th>\n",
       "    </tr>\n",
       "  </thead>\n",
       "  <tbody>\n",
       "    <tr>\n",
       "      <th>0</th>\n",
       "      <td>E01000127</td>\n",
       "      <td>Barnet</td>\n",
       "      <td>Theft and Handling</td>\n",
       "      <td>Theft From Shops</td>\n",
       "      <td>0</td>\n",
       "      <td>2013</td>\n",
       "      <td>12</td>\n",
       "    </tr>\n",
       "    <tr>\n",
       "      <th>1</th>\n",
       "      <td>E01003287</td>\n",
       "      <td>Lewisham</td>\n",
       "      <td>Drugs</td>\n",
       "      <td>Possession Of Drugs</td>\n",
       "      <td>1</td>\n",
       "      <td>2011</td>\n",
       "      <td>10</td>\n",
       "    </tr>\n",
       "    <tr>\n",
       "      <th>2</th>\n",
       "      <td>E01001244</td>\n",
       "      <td>Ealing</td>\n",
       "      <td>Violence Against the Person</td>\n",
       "      <td>Assault with Injury</td>\n",
       "      <td>0</td>\n",
       "      <td>2010</td>\n",
       "      <td>7</td>\n",
       "    </tr>\n",
       "    <tr>\n",
       "      <th>3</th>\n",
       "      <td>E01003768</td>\n",
       "      <td>Redbridge</td>\n",
       "      <td>Violence Against the Person</td>\n",
       "      <td>Offensive Weapon</td>\n",
       "      <td>1</td>\n",
       "      <td>2014</td>\n",
       "      <td>1</td>\n",
       "    </tr>\n",
       "    <tr>\n",
       "      <th>4</th>\n",
       "      <td>E01003946</td>\n",
       "      <td>Southwark</td>\n",
       "      <td>Other Notifiable Offences</td>\n",
       "      <td>Other Notifiable</td>\n",
       "      <td>1</td>\n",
       "      <td>2010</td>\n",
       "      <td>7</td>\n",
       "    </tr>\n",
       "    <tr>\n",
       "      <th>5</th>\n",
       "      <td>E01000788</td>\n",
       "      <td>Bromley</td>\n",
       "      <td>Fraud or Forgery</td>\n",
       "      <td>Counted per Victim</td>\n",
       "      <td>0</td>\n",
       "      <td>2008</td>\n",
       "      <td>5</td>\n",
       "    </tr>\n",
       "    <tr>\n",
       "      <th>6</th>\n",
       "      <td>E01000879</td>\n",
       "      <td>Camden</td>\n",
       "      <td>Other Notifiable Offences</td>\n",
       "      <td>Other Notifiable</td>\n",
       "      <td>0</td>\n",
       "      <td>2012</td>\n",
       "      <td>6</td>\n",
       "    </tr>\n",
       "    <tr>\n",
       "      <th>7</th>\n",
       "      <td>E01002099</td>\n",
       "      <td>Haringey</td>\n",
       "      <td>Sexual Offences</td>\n",
       "      <td>Other Sexual</td>\n",
       "      <td>0</td>\n",
       "      <td>2014</td>\n",
       "      <td>8</td>\n",
       "    </tr>\n",
       "    <tr>\n",
       "      <th>8</th>\n",
       "      <td>E01002355</td>\n",
       "      <td>Havering</td>\n",
       "      <td>Theft and Handling</td>\n",
       "      <td>Theft From Motor Vehicle</td>\n",
       "      <td>0</td>\n",
       "      <td>2014</td>\n",
       "      <td>10</td>\n",
       "    </tr>\n",
       "    <tr>\n",
       "      <th>9</th>\n",
       "      <td>E01003137</td>\n",
       "      <td>Lambeth</td>\n",
       "      <td>Theft and Handling</td>\n",
       "      <td>Theft/Taking Of Motor Vehicle</td>\n",
       "      <td>1</td>\n",
       "      <td>2014</td>\n",
       "      <td>11</td>\n",
       "    </tr>\n",
       "    <tr>\n",
       "      <th>10</th>\n",
       "      <td>E01001888</td>\n",
       "      <td>Hammersmith and Fulham</td>\n",
       "      <td>Robbery</td>\n",
       "      <td>Personal Property</td>\n",
       "      <td>0</td>\n",
       "      <td>2012</td>\n",
       "      <td>1</td>\n",
       "    </tr>\n",
       "    <tr>\n",
       "      <th>11</th>\n",
       "      <td>E01002571</td>\n",
       "      <td>Hounslow</td>\n",
       "      <td>Criminal Damage</td>\n",
       "      <td>Criminal Damage To Motor Vehicle</td>\n",
       "      <td>0</td>\n",
       "      <td>2016</td>\n",
       "      <td>4</td>\n",
       "    </tr>\n",
       "    <tr>\n",
       "      <th>12</th>\n",
       "      <td>E01000873</td>\n",
       "      <td>Camden</td>\n",
       "      <td>Burglary</td>\n",
       "      <td>Burglary in Other Buildings</td>\n",
       "      <td>1</td>\n",
       "      <td>2010</td>\n",
       "      <td>7</td>\n",
       "    </tr>\n",
       "    <tr>\n",
       "      <th>13</th>\n",
       "      <td>E01003021</td>\n",
       "      <td>Lambeth</td>\n",
       "      <td>Other Notifiable Offences</td>\n",
       "      <td>Other Notifiable</td>\n",
       "      <td>1</td>\n",
       "      <td>2015</td>\n",
       "      <td>10</td>\n",
       "    </tr>\n",
       "    <tr>\n",
       "      <th>14</th>\n",
       "      <td>E01004755</td>\n",
       "      <td>Westminster</td>\n",
       "      <td>Drugs</td>\n",
       "      <td>Possession Of Drugs</td>\n",
       "      <td>18</td>\n",
       "      <td>2012</td>\n",
       "      <td>8</td>\n",
       "    </tr>\n",
       "    <tr>\n",
       "      <th>15</th>\n",
       "      <td>E01001913</td>\n",
       "      <td>Hammersmith and Fulham</td>\n",
       "      <td>Criminal Damage</td>\n",
       "      <td>Other Criminal Damage</td>\n",
       "      <td>0</td>\n",
       "      <td>2016</td>\n",
       "      <td>1</td>\n",
       "    </tr>\n",
       "    <tr>\n",
       "      <th>16</th>\n",
       "      <td>E01002304</td>\n",
       "      <td>Havering</td>\n",
       "      <td>Violence Against the Person</td>\n",
       "      <td>Wounding/GBH</td>\n",
       "      <td>0</td>\n",
       "      <td>2014</td>\n",
       "      <td>8</td>\n",
       "    </tr>\n",
       "    <tr>\n",
       "      <th>17</th>\n",
       "      <td>E01001610</td>\n",
       "      <td>Greenwich</td>\n",
       "      <td>Theft and Handling</td>\n",
       "      <td>Handling Stolen Goods</td>\n",
       "      <td>0</td>\n",
       "      <td>2009</td>\n",
       "      <td>3</td>\n",
       "    </tr>\n",
       "    <tr>\n",
       "      <th>18</th>\n",
       "      <td>E01000639</td>\n",
       "      <td>Brent</td>\n",
       "      <td>Drugs</td>\n",
       "      <td>Possession Of Drugs</td>\n",
       "      <td>1</td>\n",
       "      <td>2009</td>\n",
       "      <td>10</td>\n",
       "    </tr>\n",
       "    <tr>\n",
       "      <th>19</th>\n",
       "      <td>E01001565</td>\n",
       "      <td>Enfield</td>\n",
       "      <td>Burglary</td>\n",
       "      <td>Burglary in Other Buildings</td>\n",
       "      <td>0</td>\n",
       "      <td>2014</td>\n",
       "      <td>6</td>\n",
       "    </tr>\n",
       "    <tr>\n",
       "      <th>20</th>\n",
       "      <td>E01000831</td>\n",
       "      <td>Bromley</td>\n",
       "      <td>Criminal Damage</td>\n",
       "      <td>Criminal Damage To Motor Vehicle</td>\n",
       "      <td>0</td>\n",
       "      <td>2013</td>\n",
       "      <td>2</td>\n",
       "    </tr>\n",
       "    <tr>\n",
       "      <th>21</th>\n",
       "      <td>E01004293</td>\n",
       "      <td>Tower Hamlets</td>\n",
       "      <td>Criminal Damage</td>\n",
       "      <td>Criminal Damage To Other Building</td>\n",
       "      <td>0</td>\n",
       "      <td>2014</td>\n",
       "      <td>4</td>\n",
       "    </tr>\n",
       "    <tr>\n",
       "      <th>22</th>\n",
       "      <td>E01001542</td>\n",
       "      <td>Enfield</td>\n",
       "      <td>Criminal Damage</td>\n",
       "      <td>Criminal Damage To Motor Vehicle</td>\n",
       "      <td>1</td>\n",
       "      <td>2010</td>\n",
       "      <td>6</td>\n",
       "    </tr>\n",
       "    <tr>\n",
       "      <th>23</th>\n",
       "      <td>E01000411</td>\n",
       "      <td>Bexley</td>\n",
       "      <td>Theft and Handling</td>\n",
       "      <td>Theft From Motor Vehicle</td>\n",
       "      <td>0</td>\n",
       "      <td>2012</td>\n",
       "      <td>9</td>\n",
       "    </tr>\n",
       "    <tr>\n",
       "      <th>24</th>\n",
       "      <td>E01004410</td>\n",
       "      <td>Waltham Forest</td>\n",
       "      <td>Theft and Handling</td>\n",
       "      <td>Theft From Motor Vehicle</td>\n",
       "      <td>2</td>\n",
       "      <td>2011</td>\n",
       "      <td>1</td>\n",
       "    </tr>\n",
       "  </tbody>\n",
       "</table>\n",
       "<p>25 rows × 7 columns</p>\n",
       "</div>[13490604 rows x 7 columns in total]"
      ],
      "text/plain": [
       "    lsoa_code                 borough               major_category  \\\n",
       "0   E01000127                  Barnet           Theft and Handling   \n",
       "1   E01003287                Lewisham                        Drugs   \n",
       "2   E01001244                  Ealing  Violence Against the Person   \n",
       "3   E01003768               Redbridge  Violence Against the Person   \n",
       "4   E01003946               Southwark    Other Notifiable Offences   \n",
       "5   E01000788                 Bromley             Fraud or Forgery   \n",
       "6   E01000879                  Camden    Other Notifiable Offences   \n",
       "7   E01002099                Haringey              Sexual Offences   \n",
       "8   E01002355                Havering           Theft and Handling   \n",
       "9   E01003137                 Lambeth           Theft and Handling   \n",
       "10  E01001888  Hammersmith and Fulham                      Robbery   \n",
       "11  E01002571                Hounslow              Criminal Damage   \n",
       "12  E01000873                  Camden                     Burglary   \n",
       "13  E01003021                 Lambeth    Other Notifiable Offences   \n",
       "14  E01004755             Westminster                        Drugs   \n",
       "15  E01001913  Hammersmith and Fulham              Criminal Damage   \n",
       "16  E01002304                Havering  Violence Against the Person   \n",
       "17  E01001610               Greenwich           Theft and Handling   \n",
       "18  E01000639                   Brent                        Drugs   \n",
       "19  E01001565                 Enfield                     Burglary   \n",
       "20  E01000831                 Bromley              Criminal Damage   \n",
       "21  E01004293           Tower Hamlets              Criminal Damage   \n",
       "22  E01001542                 Enfield              Criminal Damage   \n",
       "23  E01000411                  Bexley           Theft and Handling   \n",
       "24  E01004410          Waltham Forest           Theft and Handling   \n",
       "\n",
       "                       minor_category  value  year  month  \n",
       "0                    Theft From Shops      0  2013     12  \n",
       "1                 Possession Of Drugs      1  2011     10  \n",
       "2                 Assault with Injury      0  2010      7  \n",
       "3                    Offensive Weapon      1  2014      1  \n",
       "4                    Other Notifiable      1  2010      7  \n",
       "5                  Counted per Victim      0  2008      5  \n",
       "6                    Other Notifiable      0  2012      6  \n",
       "7                        Other Sexual      0  2014      8  \n",
       "8            Theft From Motor Vehicle      0  2014     10  \n",
       "9       Theft/Taking Of Motor Vehicle      1  2014     11  \n",
       "10                  Personal Property      0  2012      1  \n",
       "11   Criminal Damage To Motor Vehicle      0  2016      4  \n",
       "12        Burglary in Other Buildings      1  2010      7  \n",
       "13                   Other Notifiable      1  2015     10  \n",
       "14                Possession Of Drugs     18  2012      8  \n",
       "15              Other Criminal Damage      0  2016      1  \n",
       "16                       Wounding/GBH      0  2014      8  \n",
       "17              Handling Stolen Goods      0  2009      3  \n",
       "18                Possession Of Drugs      1  2009     10  \n",
       "19        Burglary in Other Buildings      0  2014      6  \n",
       "20   Criminal Damage To Motor Vehicle      0  2013      2  \n",
       "21  Criminal Damage To Other Building      0  2014      4  \n",
       "22   Criminal Damage To Motor Vehicle      1  2010      6  \n",
       "23           Theft From Motor Vehicle      0  2012      9  \n",
       "24           Theft From Motor Vehicle      2  2011      1  \n",
       "...\n",
       "\n",
       "[13490604 rows x 7 columns]"
      ]
     },
     "execution_count": 13,
     "metadata": {},
     "output_type": "execute_result"
    }
   ],
   "source": [
    "df"
   ]
  },
  {
   "cell_type": "code",
   "execution_count": null,
   "id": "51976c3a-079f-433f-a8b7-261f59e058d6",
   "metadata": {},
   "outputs": [],
   "source": []
  }
 ],
 "metadata": {
  "environment": {
   "kernel": "python3",
   "name": "tf2-cpu.2-11.m114",
   "type": "gcloud",
   "uri": "gcr.io/deeplearning-platform-release/tf2-cpu.2-11:m114"
  },
  "kernelspec": {
   "display_name": "Python 3",
   "language": "python",
   "name": "python3"
  },
  "language_info": {
   "codemirror_mode": {
    "name": "ipython",
    "version": 3
   },
   "file_extension": ".py",
   "mimetype": "text/x-python",
   "name": "python",
   "nbconvert_exporter": "python",
   "pygments_lexer": "ipython3",
   "version": "3.10.13"
  }
 },
 "nbformat": 4,
 "nbformat_minor": 5
}
